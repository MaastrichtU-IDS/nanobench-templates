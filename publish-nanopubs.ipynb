{
 "cells": [
  {
   "cell_type": "markdown",
   "metadata": {},
   "source": [
    "# Publish Nanopublications\n",
    "\n",
    "Java is required.\n",
    "\n",
    "We recommend to use [this Docker image](https://github.com/vemonet/Jupyterlab/tree/java) with Jupyterlab and Java installed:\n",
    "\n",
    "```bash\n",
    "docker run --rm -it -p 8888:8888 -v $(pwd):/notebooks -v ~/.nanopub:/root/.nanopub -e PASSWORD=\"test\" umids/jupyterlab:java\n",
    "```\n",
    "\n",
    "It starts the Jupyter Notebooks using notebooks files from the current directory, and using the nanopub RSA key in the user home directory (`~/.nanopub`)\n",
    "\n",
    "### Download Nanopubs jar\n",
    "\n",
    "We will use the `np` script to:\n",
    "* download the latest nanopub-java.jar\n",
    "* sign nanopubs with your nanopub secret RSA key\n",
    "* publish signed nanopubs"
   ]
  },
  {
   "cell_type": "code",
   "execution_count": 8,
   "metadata": {},
   "outputs": [
    {
     "name": "stdout",
     "output_type": "stream",
     "text": [
      "--2020-05-04 09:38:53--  https://raw.githubusercontent.com/Nanopublication/nanopub-java/master/bin/np\n",
      "Resolving raw.githubusercontent.com (raw.githubusercontent.com)... 151.101.36.133\n",
      "Connecting to raw.githubusercontent.com (raw.githubusercontent.com)|151.101.36.133|:443... connected.\n",
      "HTTP request sent, awaiting response... 200 OK\n",
      "Length: 1915 (1.9K) [text/plain]\n",
      "Saving to: ‘/bin/np’\n",
      "\n",
      "/bin/np             100%[===================>]   1.87K  --.-KB/s    in 0s      \n",
      "\n",
      "2020-05-04 09:38:53 (21.1 MB/s) - ‘/bin/np’ saved [1915/1915]\n",
      "\n",
      "Available commands:\n",
      "- check / CheckNanopub\n",
      "- get / GetNanopub\n",
      "- publish / PublishNanopub\n",
      "- sign / SignNanopub\n",
      "- mktrusty / MakeTrustyNanopub\n",
      "- fix / FixTrustyNanopub\n",
      "- status / NanopubStatus\n",
      "- server / GetServerInfo\n",
      "- mkindex / MakeIndex\n",
      "- mkkeys / MakeKeys\n",
      "- html / Nanopub2Html\n",
      "- now / TimestampNow\n",
      "- op / Run\n"
     ]
    }
   ],
   "source": [
    "# Download the nanopub jar using `np` script\n",
    "!{'wget -O /bin/np https://raw.githubusercontent.com/Nanopublication/nanopub-java/master/bin/np'}\n",
    "!{'chmod +x /bin/np'}\n",
    "!{'np help'}"
   ]
  },
  {
   "cell_type": "markdown",
   "metadata": {},
   "source": [
    "### Sign and publish nanopubs"
   ]
  },
  {
   "cell_type": "code",
   "execution_count": 9,
   "metadata": {},
   "outputs": [],
   "source": [
    "# Sign a Nanopublication\n",
    "!{'np sign nanopub-template-sparql-dataset.trig'}"
   ]
  },
  {
   "cell_type": "code",
   "execution_count": 9,
   "metadata": {},
   "outputs": [],
   "source": [
    "# Publish a signed Nanopublication\n",
    "!{'np publish signed.nanopub-template-sparql-dataset.trig'}"
   ]
  }
 ],
 "metadata": {
  "kernelspec": {
   "display_name": "Python 3",
   "language": "python",
   "name": "python3"
  },
  "language_info": {
   "codemirror_mode": {
    "name": "ipython",
    "version": 3
   },
   "file_extension": ".py",
   "mimetype": "text/x-python",
   "name": "python",
   "nbconvert_exporter": "python",
   "pygments_lexer": "ipython3",
   "version": "3.8.2"
  }
 },
 "nbformat": 4,
 "nbformat_minor": 4
}
