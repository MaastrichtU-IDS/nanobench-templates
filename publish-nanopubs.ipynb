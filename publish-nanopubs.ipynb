{
 "cells": [
  {
   "cell_type": "markdown",
   "metadata": {},
   "source": [
    "# Publish Nanopublications\n",
    "\n",
    "Java is required.\n",
    "\n",
    "We recommend to use [this Docker image](https://github.com/vemonet/Jupyterlab/blob/java/Dockerfile) with Jupyterlab and Java installed:\n",
    "\n",
    "```bash\n",
    "docker run --rm -it -p 8888:8888 -v $(pwd):/notebooks -v ~/.nanopub:/root/.nanopub -e PASSWORD=\"test\" umids/jupyterlab:java\n",
    "```\n",
    "\n",
    "This container will \n",
    "* start the Jupyter Notebooks using notebooks files from the current directory\n",
    "* use the nanopub RSA keys in your user home directory (`~/.nanopub`)\n",
    "\n",
    "## Get a Nanopubs private key\n",
    "\n",
    "You will need to generate and register a private RSA key to sign Nanopublications, if you don't have already one.\n",
    "\n",
    "You can use Nanobench to generate Nanopubs private keys in your home directory:\n",
    "\n",
    "```bash\n",
    "docker run -d --rm --name nanobench -p 37373:37373 \\\n",
    "  -v ~/.nanopub:/root/.nanopub \\\n",
    "  nanopub/nanobench\n",
    "```\n",
    "\n",
    "> Follow the UI instructions to setup your account. See [the README for more details on how to use Nanobench](https://github.com/MaastrichtU-IDS/nanobench-templates).\n",
    "\n",
    "## Download Nanopubs jar\n",
    "\n",
    "We will use the `np` script to:\n",
    "* download the latest nanopub-java.jar\n",
    "* sign nanopubs with your nanopub secret RSA key\n",
    "* publish signed nanopubs\n",
    "\n",
    "> Note that we use `!{'my cmd'}` to run shell commands from the Jupyter notebook"
   ]
  },
  {
   "cell_type": "code",
   "execution_count": 8,
   "metadata": {},
   "outputs": [
    {
     "name": "stdout",
     "output_type": "stream",
     "text": [
      "--2020-05-04 09:38:53--  https://raw.githubusercontent.com/Nanopublication/nanopub-java/master/bin/np\n",
      "Resolving raw.githubusercontent.com (raw.githubusercontent.com)... 151.101.36.133\n",
      "Connecting to raw.githubusercontent.com (raw.githubusercontent.com)|151.101.36.133|:443... connected.\n",
      "HTTP request sent, awaiting response... 200 OK\n",
      "Length: 1915 (1.9K) [text/plain]\n",
      "Saving to: ‘/bin/np’\n",
      "\n",
      "/bin/np             100%[===================>]   1.87K  --.-KB/s    in 0s      \n",
      "\n",
      "2020-05-04 09:38:53 (21.1 MB/s) - ‘/bin/np’ saved [1915/1915]\n",
      "\n",
      "Available commands:\n",
      "- check / CheckNanopub\n",
      "- get / GetNanopub\n",
      "- publish / PublishNanopub\n",
      "- sign / SignNanopub\n",
      "- mktrusty / MakeTrustyNanopub\n",
      "- fix / FixTrustyNanopub\n",
      "- status / NanopubStatus\n",
      "- server / GetServerInfo\n",
      "- mkindex / MakeIndex\n",
      "- mkkeys / MakeKeys\n",
      "- html / Nanopub2Html\n",
      "- now / TimestampNow\n",
      "- op / Run\n"
     ]
    }
   ],
   "source": [
    "# Download the nanopub jar using `np` script\n",
    "!{'wget -O /bin/np https://raw.githubusercontent.com/Nanopublication/nanopub-java/master/bin/np'}\n",
    "!{'chmod +x /bin/np'}\n",
    "!{'np help'}"
   ]
  },
  {
   "cell_type": "markdown",
   "metadata": {},
   "source": [
    "## Sign and publish nanopubs"
   ]
  },
  {
   "cell_type": "code",
   "execution_count": 9,
   "metadata": {},
   "outputs": [],
   "source": [
    "# Sign a Nanopublication\n",
    "!{'np sign nanopub-template-sparql-dataset.trig'}"
   ]
  },
  {
   "cell_type": "code",
   "execution_count": 9,
   "metadata": {},
   "outputs": [],
   "source": [
    "# Publish a signed Nanopublication\n",
    "!{'np publish signed.nanopub-template-sparql-dataset.trig'}"
   ]
  },
  {
   "cell_type": "markdown",
   "metadata": {},
   "source": [
    "## Edit published nanopubs\n",
    "\n",
    "\n",
    "* Make your changes in the unsigned `trig` file\n",
    "* Get the URL of the nanopub you want to edit (e.g. `<http://purl.org/np/RA###>`\n",
    "* Add : `npx:supersedes <http://purl.org/np/RA###>` to the pubinfo graph\n",
    "* Sign and publish the trig file again (the same as above)\n",
    "* The template is now updated and published under a new URL! The latest version will appear in nanobench publish tab.\n",
    "\n",
    "> The old template will still be visible at the previous URL."
   ]
  }
 ],
 "metadata": {
  "kernelspec": {
   "display_name": "Python 3",
   "language": "python",
   "name": "python3"
  },
  "language_info": {
   "codemirror_mode": {
    "name": "ipython",
    "version": 3
   },
   "file_extension": ".py",
   "mimetype": "text/x-python",
   "name": "python",
   "nbconvert_exporter": "python",
   "pygments_lexer": "ipython3",
   "version": "3.8.2"
  }
 },
 "nbformat": 4,
 "nbformat_minor": 4
}
