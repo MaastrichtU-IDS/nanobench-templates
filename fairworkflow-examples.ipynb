{
 "metadata": {
  "language_info": {
   "codemirror_mode": {
    "name": "ipython",
    "version": 3
   },
   "file_extension": ".py",
   "mimetype": "text/x-python",
   "name": "python",
   "nbconvert_exporter": "python",
   "pygments_lexer": "ipython3",
   "version": "3.6.9-final"
  },
  "orig_nbformat": 2,
  "kernelspec": {
   "name": "python_defaultSpec_1598191829957",
   "display_name": "Python 3.6.9 64-bit"
  }
 },
 "nbformat": 4,
 "nbformat_minor": 2,
 "cells": [
  {
   "cell_type": "markdown",
   "metadata": {},
   "source": [
    "## Search Nanopubs\n"
   ]
  },
  {
   "cell_type": "code",
   "execution_count": null,
   "metadata": {},
   "outputs": [],
   "source": [
    "from fairworkflows import Nanopub, nanopub_wrapper\n",
    "\n",
    "Nanopub.search_text(\"covid\")\n",
    "Test that Nanopub.rdf() is creating an rdf graph with the right features (contexts) for a nanopub.\n"
   ]
  },
  {
   "cell_type": "markdown",
   "metadata": {},
   "source": [
    "## Create and sign Nanopub"
   ]
  },
  {
   "cell_type": "code",
   "execution_count": null,
   "metadata": {},
   "outputs": [],
   "source": [
    "assertionrdf = rdflib.Graph()\n",
    "assertionrdf.add((Nanopub.AUTHOR.DrBob, Nanopub.HYCL.claims, rdflib.Literal('This is a test')))\n",
    "\n",
    "generated_rdf = Nanopub.rdf(assertionrdf)\n",
    "\n",
    "# TODO: store Nanopub to unsigned_file \n",
    "\n",
    "signed_file = nanopub_wrapper.sign(unsigned_file=unsigned_file)\n",
    "print(Path(signed_file).exists())"
   ]
  },
  {
   "cell_type": "markdown",
   "metadata": {},
   "source": [
    "## Translator identifiers resolution\n",
    "\n",
    "Translator ID preferences:\n",
    "* [For Disease](https://github.com/biolink/biolink-model/blob/master/biolink-model.yaml#L2853)\n",
    "* [Chemical substance](https://github.com/biolink/biolink-model/blob/master/biolink-model.yaml#L3097) \n",
    "* [Drug](https://github.com/biolink/biolink-model/blob/master/biolink-model.yaml#L3119)\n",
    "\n",
    "Resolve CURIEs using Translator API services: "
   ]
  },
  {
   "cell_type": "code",
   "execution_count": 3,
   "metadata": {
    "tags": []
   },
   "outputs": [
    {
     "output_type": "stream",
     "name": "stdout",
     "text": "{\n  \"OMIM:604308\": {\n    \"id\": {\n      \"identifier\": \"MONDO:0011431\",\n      \"label\": \"MASS syndrome\"\n    },\n    \"equivalent_identifiers\": [\n      {\n        \"identifier\": \"MONDO:0011431\",\n        \"label\": \"MASS syndrome\"\n      },\n      {\n        \"identifier\": \"OMIM:604308\"\n      },\n      {\n        \"identifier\": \"ORPHANET:99715\"\n      },\n      {\n        \"identifier\": \"UMLS:C1858556\"\n      },\n      {\n        \"identifier\": \"MESH:C536030\"\n      }\n    ],\n    \"type\": [\n      \"disease\",\n      \"named_thing\",\n      \"biological_entity\",\n      \"disease_or_phenotypic_feature\"\n    ]\n  },\n  \"DRUGBANK:DB09145\": {\n    \"id\": {\n      \"identifier\": \"CHEBI:15377\",\n      \"label\": \"water\"\n    },\n    \"equivalent_identifiers\": [\n      {\n        \"identifier\": \"CHEBI:15377\",\n        \"label\": \"water\"\n      },\n      {\n        \"identifier\": \"CHEMBL.COMPOUND:CHEMBL1098659\",\n        \"label\": \"WATER\"\n      },\n      {\n        \"identifier\": \"DRUGBANK:DB09145\"\n      },\n      {\n        \"identifier\": \"PUBCHEM.COMPOUND:962\"\n      },\n      {\n        \"identifier\": \"PUBCHEM.COMPOUND:22247451\"\n      },\n      {\n        \"identifier\": \"MESH:D014867\",\n        \"label\": \"Water\"\n      },\n      {\n        \"identifier\": \"HMDB:HMDB0002111\"\n      },\n      {\n        \"identifier\": \"INCHIKEY:IKBQPNVYXHKVJS-LVZFUZTISA-N\"\n      },\n      {\n        \"identifier\": \"UNII:059QF0KO0R\"\n      },\n      {\n        \"identifier\": \"KEGG:C00001\",\n        \"label\": \"H2O\"\n      }\n    ],\n    \"type\": [\n      \"chemical_substance\",\n      \"molecular_entity\",\n      \"biological_entity\",\n      \"named_thing\"\n    ]\n  },\n  \"HP:0007354\": {\n    \"id\": {\n      \"identifier\": \"MONDO:0004976\",\n      \"label\": \"amyotrophic lateral sclerosis\"\n    },\n    \"equivalent_identifiers\": [\n      {\n        \"identifier\": \"MONDO:0004976\",\n        \"label\": \"amyotrophic lateral sclerosis\"\n      },\n      {\n        \"identifier\": \"DOID:332\"\n      },\n      {\n        \"identifier\": \"ORPHANET:803\"\n      },\n      {\n        \"identifier\": \"EFO:0000253\",\n        \"label\": \"amyotrophic lateral sclerosis\"\n      },\n      {\n        \"identifier\": \"UMLS:C0393554\"\n      },\n      {\n        \"identifier\": \"UMLS:C0002736\"\n      },\n      {\n        \"identifier\": \"UMLS:C0543859\"\n      },\n      {\n        \"identifier\": \"MESH:D000690\"\n      },\n      {\n        \"identifier\": \"MEDDRA:10002026\"\n      },\n      {\n        \"identifier\": \"NCIT:C34373\"\n      },\n      {\n        \"identifier\": \"SNOMEDCT:86044005\"\n      },\n      {\n        \"identifier\": \"SNOMEDCT:230258005\"\n      },\n      {\n        \"identifier\": \"HP:0007354\",\n        \"label\": \"Amyotrophic lateral sclerosis\"\n      }\n    ],\n    \"type\": [\n      \"disease\",\n      \"named_thing\",\n      \"biological_entity\",\n      \"disease_or_phenotypic_feature\"\n    ]\n  },\n  \"HGNC:613\": {\n    \"id\": {\n      \"identifier\": \"NCBIGene:348\",\n      \"label\": \"APOE\"\n    },\n    \"equivalent_identifiers\": [\n      {\n        \"identifier\": \"NCBIGene:348\"\n      },\n      {\n        \"identifier\": \"ENSEMBL:ENSG00000130203\"\n      },\n      {\n        \"identifier\": \"HGNC:613\",\n        \"label\": \"APOE\"\n      },\n      {\n        \"identifier\": \"UniProtKB:P02649\"\n      }\n    ],\n    \"type\": [\n      \"gene\",\n      \"named_thing\",\n      \"biological_entity\",\n      \"molecular_entity\",\n      \"genomic_entity\",\n      \"macromolecular_machine\",\n      \"gene_or_gene_product\"\n    ]\n  }\n}\n"
    }
   ],
   "source": [
    "resolve_curies = requests.get('https://nodenormalization-sri.renci.org/get_normalized_nodes',\n",
    "                     params={'curie':[\"OMIM:268220\", \"DRUGBANK:DB00394\", \"HP:0007354\", \"HGNC:613\"]})\n",
    "print( json.dumps( resolve_curies.json(), indent = 2))"
   ]
  },
  {
   "cell_type": "code",
   "execution_count": null,
   "metadata": {},
   "outputs": [],
   "source": []
  }
 ]
}