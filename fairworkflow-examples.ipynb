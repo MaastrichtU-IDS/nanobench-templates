{
 "metadata": {
  "language_info": {
   "codemirror_mode": {
    "name": "ipython",
    "version": 3
   },
   "file_extension": ".py",
   "mimetype": "text/x-python",
   "name": "python",
   "nbconvert_exporter": "python",
   "pygments_lexer": "ipython3",
   "version": "3.6.9-final"
  },
  "orig_nbformat": 2,
  "kernelspec": {
   "name": "python_defaultSpec_1599212160391",
   "display_name": "Python 3.6.9 64-bit"
  }
 },
 "nbformat": 4,
 "nbformat_minor": 2,
 "cells": [
  {
   "cell_type": "markdown",
   "metadata": {},
   "source": [
    "## Start notebook\n",
    "\n",
    "```bash\n",
    "docker run -it --rm -p 8888:8888 -v $(pwd):/app/notebooks -v ~/.nanopub:/root/.nanopub -e JUPYTER_TOKEN=password ghcr.io/maastrichtu-ids/jupyterlab-nanopub:latest\n",
    "```\n",
    "\n",
    "## Search Nanopubs\n"
   ]
  },
  {
   "cell_type": "code",
   "execution_count": 3,
   "metadata": {},
   "outputs": [
    {
     "output_type": "execute_result",
     "data": {
      "text/plain": "[{'np': 'http://purl.org/np/RARw8SJDgZdipsA_sJyn1naeGZsJEfDo0e-_fzJsxkTvQ',\n  'graphpred': 'http://www.nanopub.org/nschema#hasAssertion',\n  'subj': 'http://purl.org/np/RARw8SJDgZdipsA_sJyn1naeGZsJEfDo0e-_fzJsxkTvQ#Pub_Assertion_1',\n  'pred': 'http://www.w3.org/2000/01/rdf-schema#label',\n  'v': 'Describe a publication related to COVID-19',\n  'date': '2020-04-16T22:00:44.817Z',\n  'pubkey': 'MIGfMA0GCSqGSIb3DQEBAQUAA4GNADCBiQKBgQCXYA/ZaH6tFeN1Kl/PqqImwvcFqm/ifOGR0fXnbu5G/nPmP8OIHjnjjfdVvG4z1fa4FD/a+fzXXgko3xBLg6I/zypVHdYyXVCvZdlmmQ4YUOuxqJz0L44whJgwRdz8ahYHPCTchTj6xJ2KMUKP4l69NhkMAKRr0LR6qYReOSYr8QIDAQAB'},\n {'np': 'http://purl.org/np/RA4bMi0lycKaR8OUuNCEgcQuf4WnllLxfe888Ae3zRDIE',\n  'graphpred': 'http://www.nanopub.org/nschema#hasAssertion',\n  'subj': 'http://purl.org/np/RA4bMi0lycKaR8OUuNCEgcQuf4WnllLxfe888Ae3zRDIE#Pub_Assertion_1',\n  'pred': 'http://www.w3.org/2000/01/rdf-schema#label',\n  'v': 'Commenting a publication about COVID-19',\n  'date': '2020-04-16T22:00:44.817Z',\n  'pubkey': 'MIGfMA0GCSqGSIb3DQEBAQUAA4GNADCBiQKBgQCXYA/ZaH6tFeN1Kl/PqqImwvcFqm/ifOGR0fXnbu5G/nPmP8OIHjnjjfdVvG4z1fa4FD/a+fzXXgko3xBLg6I/zypVHdYyXVCvZdlmmQ4YUOuxqJz0L44whJgwRdz8ahYHPCTchTj6xJ2KMUKP4l69NhkMAKRr0LR6qYReOSYr8QIDAQAB'},\n {'np': 'http://purl.org/np/RA4bMi0lycKaR8OUuNCEgcQuf4WnllLxfe888Ae3zRDIE',\n  'graphpred': 'http://www.nanopub.org/nschema#hasAssertion',\n  'subj': 'http://ncicb.nci.nih.gov/xml/owl/EVS/Thesaurus.owl#C169076',\n  'pred': 'http://www.w3.org/2000/01/rdf-schema#label',\n  'v': 'SARS Coronavirus 2 (COVID-19)',\n  'date': '2020-04-16T22:00:44.817Z',\n  'pubkey': 'MIGfMA0GCSqGSIb3DQEBAQUAA4GNADCBiQKBgQCXYA/ZaH6tFeN1Kl/PqqImwvcFqm/ifOGR0fXnbu5G/nPmP8OIHjnjjfdVvG4z1fa4FD/a+fzXXgko3xBLg6I/zypVHdYyXVCvZdlmmQ4YUOuxqJz0L44whJgwRdz8ahYHPCTchTj6xJ2KMUKP4l69NhkMAKRr0LR6qYReOSYr8QIDAQAB'},\n {'np': 'http://purl.org/np/RAdDKjIGPt_2mE9oJtB3YQX6wGGdCC8ZWpkxEIoHsxOjE',\n  'graphpred': 'http://www.nanopub.org/nschema#hasAssertion',\n  'subj': 'http://purl.org/np/RAdDKjIGPt_2mE9oJtB3YQX6wGGdCC8ZWpkxEIoHsxOjE#community',\n  'pred': 'http://www.w3.org/2000/01/rdf-schema#comment',\n  'v': 'The primary objective of the VODAN Implementation Network is to showcase the creation and deployment of FAIR data related to COVID-19',\n  'date': '2020-05-01T08:05:25.575Z',\n  'pubkey': 'MIGfMA0GCSqGSIb3DQEBAQUAA4GNADCBiQKBgQDHYa4Qlb25/9DnqivTh2kxQMVpFQ0r/cXtOgDQM5dWNrGQVG9RVlXnyt9qowP+k+4bhzcHPQkYWd7YVFBXBFrEnBIReUuRLElYhFrn9jf7w2+YWN8WxKIyBaNZVtgjZpHwGrZOaLOIsl02kEK1G2Qc3FXYCZFWuRJDcafe58eRNQIDAQAB'},\n {'np': 'http://purl.org/np/RAuzgQlvp6Zuhp5OaFaLjClWiyYwFl-36eyesOKYQGny8',\n  'graphpred': 'http://www.nanopub.org/nschema#hasAssertion',\n  'subj': 'http://purl.org/np/RAuzgQlvp6Zuhp5OaFaLjClWiyYwFl-36eyesOKYQGny8#vodan-community',\n  'pred': 'http://www.w3.org/2000/01/rdf-schema#comment',\n  'v': 'The primary objective of the VODAN Implementation Network is to showcase the creation and deployment of FAIR data related to COVID-19',\n  'date': '2020-05-14T11:29:07.974Z',\n  'pubkey': 'MIGfMA0GCSqGSIb3DQEBAQUAA4GNADCBiQKBgQDHYa4Qlb25/9DnqivTh2kxQMVpFQ0r/cXtOgDQM5dWNrGQVG9RVlXnyt9qowP+k+4bhzcHPQkYWd7YVFBXBFrEnBIReUuRLElYhFrn9jf7w2+YWN8WxKIyBaNZVtgjZpHwGrZOaLOIsl02kEK1G2Qc3FXYCZFWuRJDcafe58eRNQIDAQAB'}]"
     },
     "metadata": {},
     "execution_count": 3
    }
   ],
   "source": [
    "from fairworkflows import Nanopub, nanopub_wrapper\n",
    "\n",
    "Nanopub.search_text(\"covid\")\n",
    "# Test that Nanopub.rdf() is creating an rdf graph with the right features (contexts) for a nanopub.\n"
   ]
  },
  {
   "cell_type": "markdown",
   "metadata": {},
   "source": [
    "## Create and sign Nanopub"
   ]
  },
  {
   "cell_type": "code",
   "execution_count": 7,
   "metadata": {},
   "outputs": [],
   "source": [
    "import rdflib\n",
    "assertionrdf = rdflib.Graph()\n",
    "assertionrdf.add((Nanopub.AUTHOR.DrBob, Nanopub.HYCL.claims, rdflib.Literal('This is a test')))\n",
    "\n",
    "generated_rdf = Nanopub.rdf(assertionrdf)\n",
    "\n",
    "# TODO: store Nanopub to unsigned_file "
   ]
  },
  {
   "cell_type": "markdown",
   "metadata": {},
   "source": [
    "## Sign Nanopub"
   ]
  },
  {
   "cell_type": "code",
   "execution_count": 10,
   "metadata": {},
   "outputs": [
    {
     "output_type": "error",
     "ename": "Exception",
     "evalue": "Shell command failed: /home/vemonet/.local/lib/python3.6/site-packages/fairworkflows/np sign templates/nanopub-template-comment-association.trig",
     "traceback": [
      "\u001b[0;31m---------------------------------------------------------------------------\u001b[0m",
      "\u001b[0;31mException\u001b[0m                                 Traceback (most recent call last)",
      "\u001b[0;32m<ipython-input-10-9da90aa67e6c>\u001b[0m in \u001b[0;36m<module>\u001b[0;34m\u001b[0m\n\u001b[1;32m      2\u001b[0m \u001b[0munsigned_file\u001b[0m \u001b[0;34m=\u001b[0m \u001b[0;34m\"templates/nanopub-template-comment-association.trig\"\u001b[0m\u001b[0;34m\u001b[0m\u001b[0;34m\u001b[0m\u001b[0m\n\u001b[1;32m      3\u001b[0m \u001b[0;34m\u001b[0m\u001b[0m\n\u001b[0;32m----> 4\u001b[0;31m \u001b[0msigned_file\u001b[0m \u001b[0;34m=\u001b[0m \u001b[0mnanopub_wrapper\u001b[0m\u001b[0;34m.\u001b[0m\u001b[0msign\u001b[0m\u001b[0;34m(\u001b[0m\u001b[0munsigned_file\u001b[0m\u001b[0;34m=\u001b[0m\u001b[0munsigned_file\u001b[0m\u001b[0;34m)\u001b[0m\u001b[0;34m\u001b[0m\u001b[0;34m\u001b[0m\u001b[0m\n\u001b[0m\u001b[1;32m      5\u001b[0m \u001b[0mprint\u001b[0m\u001b[0;34m(\u001b[0m\u001b[0mPath\u001b[0m\u001b[0;34m(\u001b[0m\u001b[0msigned_file\u001b[0m\u001b[0;34m)\u001b[0m\u001b[0;34m.\u001b[0m\u001b[0mexists\u001b[0m\u001b[0;34m(\u001b[0m\u001b[0;34m)\u001b[0m\u001b[0;34m)\u001b[0m\u001b[0;34m\u001b[0m\u001b[0;34m\u001b[0m\u001b[0m\n",
      "\u001b[0;32m~/.local/lib/python3.6/site-packages/fairworkflows/nanopub_wrapper.py\u001b[0m in \u001b[0;36msign\u001b[0;34m(unsigned_file)\u001b[0m\n\u001b[1;32m     17\u001b[0m \u001b[0;32mdef\u001b[0m \u001b[0msign\u001b[0m\u001b[0;34m(\u001b[0m\u001b[0munsigned_file\u001b[0m\u001b[0;34m:\u001b[0m \u001b[0mUnion\u001b[0m\u001b[0;34m[\u001b[0m\u001b[0mstr\u001b[0m\u001b[0;34m,\u001b[0m \u001b[0mPath\u001b[0m\u001b[0;34m]\u001b[0m\u001b[0;34m)\u001b[0m \u001b[0;34m->\u001b[0m \u001b[0mstr\u001b[0m\u001b[0;34m:\u001b[0m\u001b[0;34m\u001b[0m\u001b[0;34m\u001b[0m\u001b[0m\n\u001b[1;32m     18\u001b[0m     \u001b[0munsigned_file\u001b[0m \u001b[0;34m=\u001b[0m \u001b[0mstr\u001b[0m\u001b[0;34m(\u001b[0m\u001b[0munsigned_file\u001b[0m\u001b[0;34m)\u001b[0m\u001b[0;34m\u001b[0m\u001b[0;34m\u001b[0m\u001b[0m\n\u001b[0;32m---> 19\u001b[0;31m     \u001b[0m_shell_command\u001b[0m\u001b[0;34m(\u001b[0m\u001b[0;34mf'{NANOPUB_SCRIPT} sign '\u001b[0m \u001b[0;34m+\u001b[0m \u001b[0munsigned_file\u001b[0m\u001b[0;34m)\u001b[0m\u001b[0;34m\u001b[0m\u001b[0;34m\u001b[0m\u001b[0m\n\u001b[0m\u001b[1;32m     20\u001b[0m \u001b[0;34m\u001b[0m\u001b[0m\n\u001b[1;32m     21\u001b[0m     \u001b[0;32mreturn\u001b[0m \u001b[0m_get_signed_file\u001b[0m\u001b[0;34m(\u001b[0m\u001b[0munsigned_file\u001b[0m\u001b[0;34m)\u001b[0m\u001b[0;34m\u001b[0m\u001b[0;34m\u001b[0m\u001b[0m\n",
      "\u001b[0;32m~/.local/lib/python3.6/site-packages/fairworkflows/nanopub_wrapper.py\u001b[0m in \u001b[0;36m_shell_command\u001b[0;34m(command)\u001b[0m\n\u001b[1;32m     12\u001b[0m \u001b[0;32mdef\u001b[0m \u001b[0m_shell_command\u001b[0m\u001b[0;34m(\u001b[0m\u001b[0mcommand\u001b[0m\u001b[0;34m)\u001b[0m\u001b[0;34m:\u001b[0m\u001b[0;34m\u001b[0m\u001b[0;34m\u001b[0m\u001b[0m\n\u001b[1;32m     13\u001b[0m     \u001b[0;32mif\u001b[0m \u001b[0mos\u001b[0m\u001b[0;34m.\u001b[0m\u001b[0msystem\u001b[0m\u001b[0;34m(\u001b[0m\u001b[0mcommand\u001b[0m\u001b[0;34m)\u001b[0m \u001b[0;34m!=\u001b[0m \u001b[0;36m0\u001b[0m\u001b[0;34m:\u001b[0m\u001b[0;34m\u001b[0m\u001b[0;34m\u001b[0m\u001b[0m\n\u001b[0;32m---> 14\u001b[0;31m         \u001b[0;32mraise\u001b[0m \u001b[0mException\u001b[0m\u001b[0;34m(\u001b[0m\u001b[0;34mf'Shell command failed: {command}'\u001b[0m\u001b[0;34m)\u001b[0m\u001b[0;34m\u001b[0m\u001b[0;34m\u001b[0m\u001b[0m\n\u001b[0m\u001b[1;32m     15\u001b[0m \u001b[0;34m\u001b[0m\u001b[0m\n\u001b[1;32m     16\u001b[0m \u001b[0;34m\u001b[0m\u001b[0m\n",
      "\u001b[0;31mException\u001b[0m: Shell command failed: /home/vemonet/.local/lib/python3.6/site-packages/fairworkflows/np sign templates/nanopub-template-comment-association.trig"
     ]
    }
   ],
   "source": [
    "# unsigned_file = open(\"templates/nanopub-template-comment-association.trig\",\"r\")\n",
    "unsigned_file = \"templates/nanopub-template-comment-association.trig\"\n",
    "\n",
    "signed_file = nanopub_wrapper.sign(unsigned_file=unsigned_file)\n",
    "print(Path(signed_file).exists())"
   ]
  },
  {
   "cell_type": "markdown",
   "metadata": {},
   "source": [
    "## Translator identifiers resolution\n",
    "\n",
    "Translator ID preferences:\n",
    "* [For Disease](https://github.com/biolink/biolink-model/blob/master/biolink-model.yaml#L2853)\n",
    "* [Chemical substance](https://github.com/biolink/biolink-model/blob/master/biolink-model.yaml#L3097) \n",
    "* [Drug](https://github.com/biolink/biolink-model/blob/master/biolink-model.yaml#L3119)\n",
    "\n",
    "Resolve CURIEs using Translator API services: "
   ]
  },
  {
   "cell_type": "code",
   "execution_count": 11,
   "metadata": {
    "tags": []
   },
   "outputs": [
    {
     "output_type": "error",
     "ename": "NameError",
     "evalue": "name 'requests' is not defined",
     "traceback": [
      "\u001b[0;31m---------------------------------------------------------------------------\u001b[0m",
      "\u001b[0;31mNameError\u001b[0m                                 Traceback (most recent call last)",
      "\u001b[0;32m<ipython-input-11-9d8133930b56>\u001b[0m in \u001b[0;36m<module>\u001b[0;34m\u001b[0m\n\u001b[0;32m----> 1\u001b[0;31m resolve_curies = requests.get('https://nodenormalization-sri.renci.org/get_normalized_nodes',\n\u001b[0m\u001b[1;32m      2\u001b[0m                      params={'curie':[\"OMIM:268220\", \"DRUGBANK:DB00394\", \"HP:0007354\", \"HGNC:613\"]})\n\u001b[1;32m      3\u001b[0m \u001b[0mprint\u001b[0m\u001b[0;34m(\u001b[0m \u001b[0mjson\u001b[0m\u001b[0;34m.\u001b[0m\u001b[0mdumps\u001b[0m\u001b[0;34m(\u001b[0m \u001b[0mresolve_curies\u001b[0m\u001b[0;34m.\u001b[0m\u001b[0mjson\u001b[0m\u001b[0;34m(\u001b[0m\u001b[0;34m)\u001b[0m\u001b[0;34m,\u001b[0m \u001b[0mindent\u001b[0m \u001b[0;34m=\u001b[0m \u001b[0;36m2\u001b[0m\u001b[0;34m)\u001b[0m\u001b[0;34m)\u001b[0m\u001b[0;34m\u001b[0m\u001b[0;34m\u001b[0m\u001b[0m\n",
      "\u001b[0;31mNameError\u001b[0m: name 'requests' is not defined"
     ]
    }
   ],
   "source": [
    "resolve_curies = requests.get('https://nodenormalization-sri.renci.org/get_normalized_nodes',\n",
    "                     params={'curie':[\"OMIM:268220\", \"DRUGBANK:DB00394\", \"HP:0007354\", \"HGNC:613\"]})\n",
    "print( json.dumps( resolve_curies.json(), indent = 2))"
   ]
  },
  {
   "cell_type": "code",
   "execution_count": null,
   "metadata": {},
   "outputs": [],
   "source": []
  }
 ]
}